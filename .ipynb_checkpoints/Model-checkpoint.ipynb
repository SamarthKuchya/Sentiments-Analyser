{
 "cells": [
  {
   "cell_type": "code",
   "execution_count": 1,
   "id": "3cfbe2ba",
   "metadata": {},
   "outputs": [],
   "source": [
    "import numpy as np\n",
    "import pandas as pd\n",
    "from keras.models import *\n",
    "from keras.layers import *\n",
    "from tensorflow.keras.utils import to_categorical\n",
    "from sklearn.utils import shuffle"
   ]
  },
  {
   "cell_type": "code",
   "execution_count": 2,
   "id": "98d0be45",
   "metadata": {},
   "outputs": [],
   "source": [
    "dataset=pd.read_csv('dataset.csv')"
   ]
  },
  {
   "cell_type": "code",
   "execution_count": 3,
   "id": "67100f48",
   "metadata": {},
   "outputs": [
    {
     "data": {
      "text/html": [
       "<div>\n",
       "<style scoped>\n",
       "    .dataframe tbody tr th:only-of-type {\n",
       "        vertical-align: middle;\n",
       "    }\n",
       "\n",
       "    .dataframe tbody tr th {\n",
       "        vertical-align: top;\n",
       "    }\n",
       "\n",
       "    .dataframe thead th {\n",
       "        text-align: right;\n",
       "    }\n",
       "</style>\n",
       "<table border=\"1\" class=\"dataframe\">\n",
       "  <thead>\n",
       "    <tr style=\"text-align: right;\">\n",
       "      <th></th>\n",
       "      <th>sentence</th>\n",
       "      <th>label</th>\n",
       "    </tr>\n",
       "  </thead>\n",
       "  <tbody>\n",
       "    <tr>\n",
       "      <th>0</th>\n",
       "      <td>I love this movie!</td>\n",
       "      <td>2</td>\n",
       "    </tr>\n",
       "    <tr>\n",
       "      <th>1</th>\n",
       "      <td>This book is so boring.</td>\n",
       "      <td>0</td>\n",
       "    </tr>\n",
       "    <tr>\n",
       "      <th>2</th>\n",
       "      <td>The weather today is okay.</td>\n",
       "      <td>1</td>\n",
       "    </tr>\n",
       "    <tr>\n",
       "      <th>3</th>\n",
       "      <td>I had a terrible experience at the restaurant.</td>\n",
       "      <td>0</td>\n",
       "    </tr>\n",
       "    <tr>\n",
       "      <th>4</th>\n",
       "      <td>The new album is fantastic!</td>\n",
       "      <td>2</td>\n",
       "    </tr>\n",
       "    <tr>\n",
       "      <th>...</th>\n",
       "      <td>...</td>\n",
       "      <td>...</td>\n",
       "    </tr>\n",
       "    <tr>\n",
       "      <th>2293</th>\n",
       "      <td>The customer support at this company is satisf...</td>\n",
       "      <td>1</td>\n",
       "    </tr>\n",
       "    <tr>\n",
       "      <th>2294</th>\n",
       "      <td>The food at this restaurant is quite tasty.</td>\n",
       "      <td>2</td>\n",
       "    </tr>\n",
       "    <tr>\n",
       "      <th>2295</th>\n",
       "      <td>I'm feeling somewhat indifferent about the new...</td>\n",
       "      <td>1</td>\n",
       "    </tr>\n",
       "    <tr>\n",
       "      <th>2296</th>\n",
       "      <td>I'm feeling really positive about the progress...</td>\n",
       "      <td>2</td>\n",
       "    </tr>\n",
       "    <tr>\n",
       "      <th>2297</th>\n",
       "      <td>The service at this establishment is below ave...</td>\n",
       "      <td>0</td>\n",
       "    </tr>\n",
       "  </tbody>\n",
       "</table>\n",
       "<p>2298 rows × 2 columns</p>\n",
       "</div>"
      ],
      "text/plain": [
       "                                               sentence  label\n",
       "0                                    I love this movie!      2\n",
       "1                               This book is so boring.      0\n",
       "2                            The weather today is okay.      1\n",
       "3        I had a terrible experience at the restaurant.      0\n",
       "4                           The new album is fantastic!      2\n",
       "...                                                 ...    ...\n",
       "2293  The customer support at this company is satisf...      1\n",
       "2294        The food at this restaurant is quite tasty.      2\n",
       "2295  I'm feeling somewhat indifferent about the new...      1\n",
       "2296  I'm feeling really positive about the progress...      2\n",
       "2297  The service at this establishment is below ave...      0\n",
       "\n",
       "[2298 rows x 2 columns]"
      ]
     },
     "execution_count": 3,
     "metadata": {},
     "output_type": "execute_result"
    }
   ],
   "source": [
    "dataset"
   ]
  },
  {
   "cell_type": "code",
   "execution_count": 4,
   "id": "a2d0f10c",
   "metadata": {},
   "outputs": [],
   "source": [
    "duplicate = dataset[dataset.duplicated()]"
   ]
  },
  {
   "cell_type": "code",
   "execution_count": 5,
   "id": "8778599a",
   "metadata": {},
   "outputs": [
    {
     "data": {
      "text/html": [
       "<div>\n",
       "<style scoped>\n",
       "    .dataframe tbody tr th:only-of-type {\n",
       "        vertical-align: middle;\n",
       "    }\n",
       "\n",
       "    .dataframe tbody tr th {\n",
       "        vertical-align: top;\n",
       "    }\n",
       "\n",
       "    .dataframe thead th {\n",
       "        text-align: right;\n",
       "    }\n",
       "</style>\n",
       "<table border=\"1\" class=\"dataframe\">\n",
       "  <thead>\n",
       "    <tr style=\"text-align: right;\">\n",
       "      <th></th>\n",
       "      <th>sentence</th>\n",
       "      <th>label</th>\n",
       "    </tr>\n",
       "  </thead>\n",
       "  <tbody>\n",
       "    <tr>\n",
       "      <th>104</th>\n",
       "      <td>I'm feeling indifferent about the outcome.</td>\n",
       "      <td>1</td>\n",
       "    </tr>\n",
       "    <tr>\n",
       "      <th>115</th>\n",
       "      <td>I'm neutral about the situation.</td>\n",
       "      <td>1</td>\n",
       "    </tr>\n",
       "    <tr>\n",
       "      <th>155</th>\n",
       "      <td>The traffic was unbearable.</td>\n",
       "      <td>0</td>\n",
       "    </tr>\n",
       "    <tr>\n",
       "      <th>156</th>\n",
       "      <td>I'm ecstatic about the news.</td>\n",
       "      <td>2</td>\n",
       "    </tr>\n",
       "    <tr>\n",
       "      <th>157</th>\n",
       "      <td>The concert was amazing!</td>\n",
       "      <td>2</td>\n",
       "    </tr>\n",
       "    <tr>\n",
       "      <th>...</th>\n",
       "      <td>...</td>\n",
       "      <td>...</td>\n",
       "    </tr>\n",
       "    <tr>\n",
       "      <th>2293</th>\n",
       "      <td>The customer support at this company is satisf...</td>\n",
       "      <td>1</td>\n",
       "    </tr>\n",
       "    <tr>\n",
       "      <th>2294</th>\n",
       "      <td>The food at this restaurant is quite tasty.</td>\n",
       "      <td>2</td>\n",
       "    </tr>\n",
       "    <tr>\n",
       "      <th>2295</th>\n",
       "      <td>I'm feeling somewhat indifferent about the new...</td>\n",
       "      <td>1</td>\n",
       "    </tr>\n",
       "    <tr>\n",
       "      <th>2296</th>\n",
       "      <td>I'm feeling really positive about the progress...</td>\n",
       "      <td>2</td>\n",
       "    </tr>\n",
       "    <tr>\n",
       "      <th>2297</th>\n",
       "      <td>The service at this establishment is below ave...</td>\n",
       "      <td>0</td>\n",
       "    </tr>\n",
       "  </tbody>\n",
       "</table>\n",
       "<p>925 rows × 2 columns</p>\n",
       "</div>"
      ],
      "text/plain": [
       "                                               sentence  label\n",
       "104          I'm feeling indifferent about the outcome.      1\n",
       "115                    I'm neutral about the situation.      1\n",
       "155                         The traffic was unbearable.      0\n",
       "156                        I'm ecstatic about the news.      2\n",
       "157                            The concert was amazing!      2\n",
       "...                                                 ...    ...\n",
       "2293  The customer support at this company is satisf...      1\n",
       "2294        The food at this restaurant is quite tasty.      2\n",
       "2295  I'm feeling somewhat indifferent about the new...      1\n",
       "2296  I'm feeling really positive about the progress...      2\n",
       "2297  The service at this establishment is below ave...      0\n",
       "\n",
       "[925 rows x 2 columns]"
      ]
     },
     "execution_count": 5,
     "metadata": {},
     "output_type": "execute_result"
    }
   ],
   "source": [
    "duplicate"
   ]
  },
  {
   "cell_type": "code",
   "execution_count": 6,
   "id": "fadb4181",
   "metadata": {},
   "outputs": [],
   "source": [
    "dataset.drop_duplicates(keep=False,inplace=True)"
   ]
  },
  {
   "cell_type": "code",
   "execution_count": 7,
   "id": "1130bd52",
   "metadata": {},
   "outputs": [
    {
     "data": {
      "text/html": [
       "<div>\n",
       "<style scoped>\n",
       "    .dataframe tbody tr th:only-of-type {\n",
       "        vertical-align: middle;\n",
       "    }\n",
       "\n",
       "    .dataframe tbody tr th {\n",
       "        vertical-align: top;\n",
       "    }\n",
       "\n",
       "    .dataframe thead th {\n",
       "        text-align: right;\n",
       "    }\n",
       "</style>\n",
       "<table border=\"1\" class=\"dataframe\">\n",
       "  <thead>\n",
       "    <tr style=\"text-align: right;\">\n",
       "      <th></th>\n",
       "      <th>sentence</th>\n",
       "      <th>label</th>\n",
       "    </tr>\n",
       "  </thead>\n",
       "  <tbody>\n",
       "    <tr>\n",
       "      <th>0</th>\n",
       "      <td>I love this movie!</td>\n",
       "      <td>2</td>\n",
       "    </tr>\n",
       "    <tr>\n",
       "      <th>1</th>\n",
       "      <td>This book is so boring.</td>\n",
       "      <td>0</td>\n",
       "    </tr>\n",
       "    <tr>\n",
       "      <th>2</th>\n",
       "      <td>The weather today is okay.</td>\n",
       "      <td>1</td>\n",
       "    </tr>\n",
       "    <tr>\n",
       "      <th>3</th>\n",
       "      <td>I had a terrible experience at the restaurant.</td>\n",
       "      <td>0</td>\n",
       "    </tr>\n",
       "    <tr>\n",
       "      <th>4</th>\n",
       "      <td>The new album is fantastic!</td>\n",
       "      <td>2</td>\n",
       "    </tr>\n",
       "    <tr>\n",
       "      <th>...</th>\n",
       "      <td>...</td>\n",
       "      <td>...</td>\n",
       "    </tr>\n",
       "    <tr>\n",
       "      <th>2223</th>\n",
       "      <td>I'm really looking forward to the upcoming hol...</td>\n",
       "      <td>2</td>\n",
       "    </tr>\n",
       "    <tr>\n",
       "      <th>2225</th>\n",
       "      <td>The food at this restaurant is decent.</td>\n",
       "      <td>1</td>\n",
       "    </tr>\n",
       "    <tr>\n",
       "      <th>2226</th>\n",
       "      <td>I'm feeling pretty optimistic about the future.</td>\n",
       "      <td>2</td>\n",
       "    </tr>\n",
       "    <tr>\n",
       "      <th>2227</th>\n",
       "      <td>The service at this establishment is subpar.</td>\n",
       "      <td>0</td>\n",
       "    </tr>\n",
       "    <tr>\n",
       "      <th>2228</th>\n",
       "      <td>The concert we attended last night was enterta...</td>\n",
       "      <td>2</td>\n",
       "    </tr>\n",
       "  </tbody>\n",
       "</table>\n",
       "<p>1061 rows × 2 columns</p>\n",
       "</div>"
      ],
      "text/plain": [
       "                                               sentence  label\n",
       "0                                    I love this movie!      2\n",
       "1                               This book is so boring.      0\n",
       "2                            The weather today is okay.      1\n",
       "3        I had a terrible experience at the restaurant.      0\n",
       "4                           The new album is fantastic!      2\n",
       "...                                                 ...    ...\n",
       "2223  I'm really looking forward to the upcoming hol...      2\n",
       "2225             The food at this restaurant is decent.      1\n",
       "2226    I'm feeling pretty optimistic about the future.      2\n",
       "2227       The service at this establishment is subpar.      0\n",
       "2228  The concert we attended last night was enterta...      2\n",
       "\n",
       "[1061 rows x 2 columns]"
      ]
     },
     "execution_count": 7,
     "metadata": {},
     "output_type": "execute_result"
    }
   ],
   "source": [
    "dataset"
   ]
  },
  {
   "cell_type": "code",
   "execution_count": 8,
   "id": "b4ad985a",
   "metadata": {},
   "outputs": [],
   "source": [
    "dataset=shuffle(dataset)"
   ]
  },
  {
   "cell_type": "code",
   "execution_count": 9,
   "id": "2aa59c87",
   "metadata": {},
   "outputs": [
    {
     "data": {
      "text/html": [
       "<div>\n",
       "<style scoped>\n",
       "    .dataframe tbody tr th:only-of-type {\n",
       "        vertical-align: middle;\n",
       "    }\n",
       "\n",
       "    .dataframe tbody tr th {\n",
       "        vertical-align: top;\n",
       "    }\n",
       "\n",
       "    .dataframe thead th {\n",
       "        text-align: right;\n",
       "    }\n",
       "</style>\n",
       "<table border=\"1\" class=\"dataframe\">\n",
       "  <thead>\n",
       "    <tr style=\"text-align: right;\">\n",
       "      <th></th>\n",
       "      <th>sentence</th>\n",
       "      <th>label</th>\n",
       "    </tr>\n",
       "  </thead>\n",
       "  <tbody>\n",
       "    <tr>\n",
       "      <th>1643</th>\n",
       "      <td>That new restaurant downtown is amazing, I lov...</td>\n",
       "      <td>2</td>\n",
       "    </tr>\n",
       "    <tr>\n",
       "      <th>1772</th>\n",
       "      <td>The long wait to get seated at the restaurant ...</td>\n",
       "      <td>0</td>\n",
       "    </tr>\n",
       "    <tr>\n",
       "      <th>1954</th>\n",
       "      <td>Going for a walk in the forest was so calming.</td>\n",
       "      <td>2</td>\n",
       "    </tr>\n",
       "    <tr>\n",
       "      <th>55</th>\n",
       "      <td>The vacation was relaxing.</td>\n",
       "      <td>2</td>\n",
       "    </tr>\n",
       "    <tr>\n",
       "      <th>1686</th>\n",
       "      <td>I'm indifferent to the new office furniture, i...</td>\n",
       "      <td>1</td>\n",
       "    </tr>\n",
       "    <tr>\n",
       "      <th>...</th>\n",
       "      <td>...</td>\n",
       "      <td>...</td>\n",
       "    </tr>\n",
       "    <tr>\n",
       "      <th>1826</th>\n",
       "      <td>The long lines at the grocery store were reall...</td>\n",
       "      <td>0</td>\n",
       "    </tr>\n",
       "    <tr>\n",
       "      <th>1679</th>\n",
       "      <td>Going to the beach and feeling the sand betwee...</td>\n",
       "      <td>2</td>\n",
       "    </tr>\n",
       "    <tr>\n",
       "      <th>2108</th>\n",
       "      <td>I'm neutral about the new menu at the cafeteria.\"</td>\n",
       "      <td>1</td>\n",
       "    </tr>\n",
       "    <tr>\n",
       "      <th>818</th>\n",
       "      <td>I'm ecstatic about the news of her promotion.</td>\n",
       "      <td>2</td>\n",
       "    </tr>\n",
       "    <tr>\n",
       "      <th>126</th>\n",
       "      <td>I'm feeling optimistic about the situation.</td>\n",
       "      <td>2</td>\n",
       "    </tr>\n",
       "  </tbody>\n",
       "</table>\n",
       "<p>1061 rows × 2 columns</p>\n",
       "</div>"
      ],
      "text/plain": [
       "                                               sentence  label\n",
       "1643  That new restaurant downtown is amazing, I lov...      2\n",
       "1772  The long wait to get seated at the restaurant ...      0\n",
       "1954     Going for a walk in the forest was so calming.      2\n",
       "55                           The vacation was relaxing.      2\n",
       "1686  I'm indifferent to the new office furniture, i...      1\n",
       "...                                                 ...    ...\n",
       "1826  The long lines at the grocery store were reall...      0\n",
       "1679  Going to the beach and feeling the sand betwee...      2\n",
       "2108  I'm neutral about the new menu at the cafeteria.\"      1\n",
       "818       I'm ecstatic about the news of her promotion.      2\n",
       "126         I'm feeling optimistic about the situation.      2\n",
       "\n",
       "[1061 rows x 2 columns]"
      ]
     },
     "execution_count": 9,
     "metadata": {},
     "output_type": "execute_result"
    }
   ],
   "source": [
    "dataset"
   ]
  },
  {
   "cell_type": "code",
   "execution_count": 10,
   "id": "815e8e3d",
   "metadata": {},
   "outputs": [],
   "source": [
    "X_data=dataset['sentence'].values\n",
    "labels=dataset['label'].values"
   ]
  },
  {
   "cell_type": "code",
   "execution_count": 11,
   "id": "06b7f4da",
   "metadata": {},
   "outputs": [
    {
     "data": {
      "text/plain": [
       "((1061,), (1061,))"
      ]
     },
     "execution_count": 11,
     "metadata": {},
     "output_type": "execute_result"
    }
   ],
   "source": [
    "X_data.shape,labels.shape"
   ]
  },
  {
   "cell_type": "code",
   "execution_count": 12,
   "id": "0944637b",
   "metadata": {},
   "outputs": [],
   "source": [
    "split=0.2\n",
    "X_train=X_data[(int)(split*X_data.shape[0]):]\n",
    "X_test=X_data[:(int)(split*X_data.shape[0])]\n",
    "Y_train=labels[int(split*labels.shape[0]):]\n",
    "Y_test=labels[:int(split*labels.shape[0])]"
   ]
  },
  {
   "cell_type": "code",
   "execution_count": 13,
   "id": "55f74b4d",
   "metadata": {},
   "outputs": [
    {
     "name": "stdout",
     "output_type": "stream",
     "text": [
      "(849,) (212,) (849,) (212,)\n"
     ]
    }
   ],
   "source": [
    "print(X_train.shape,X_test.shape,Y_train.shape,Y_test.shape)"
   ]
  },
  {
   "cell_type": "code",
   "execution_count": 14,
   "id": "aed2f0ef",
   "metadata": {},
   "outputs": [
    {
     "name": "stdout",
     "output_type": "stream",
     "text": [
      "<class 'pandas.core.frame.DataFrame'>\n",
      "Index: 1061 entries, 1643 to 126\n",
      "Data columns (total 2 columns):\n",
      " #   Column    Non-Null Count  Dtype \n",
      "---  ------    --------------  ----- \n",
      " 0   sentence  1061 non-null   object\n",
      " 1   label     1061 non-null   int64 \n",
      "dtypes: int64(1), object(1)\n",
      "memory usage: 24.9+ KB\n"
     ]
    }
   ],
   "source": [
    "dataset.info()"
   ]
  },
  {
   "cell_type": "code",
   "execution_count": 15,
   "id": "c278e105",
   "metadata": {},
   "outputs": [
    {
     "data": {
      "text/plain": [
       "array([0, 1, 2], dtype=int64)"
      ]
     },
     "execution_count": 15,
     "metadata": {},
     "output_type": "execute_result"
    }
   ],
   "source": [
    "np.unique(labels)"
   ]
  },
  {
   "cell_type": "code",
   "execution_count": 16,
   "id": "848b1067",
   "metadata": {},
   "outputs": [],
   "source": [
    "Y_test=to_categorical(Y_test)\n",
    "Y_train=to_categorical(Y_train)"
   ]
  },
  {
   "cell_type": "code",
   "execution_count": 17,
   "id": "2a34c383",
   "metadata": {},
   "outputs": [
    {
     "name": "stdout",
     "output_type": "stream",
     "text": [
      "(849,) (212,) (849, 3) (212, 3)\n"
     ]
    }
   ],
   "source": [
    "print(X_train.shape,X_test.shape,Y_train.shape,Y_test.shape)"
   ]
  },
  {
   "cell_type": "code",
   "execution_count": 18,
   "id": "434ee0eb",
   "metadata": {},
   "outputs": [],
   "source": [
    "f=open('D:/Skills/Emoji Classifier/glove.6B.50d.txt',encoding='utf-8')\n",
    "embedding_index={}\n",
    "\n",
    "for line in f:\n",
    "    values=line.split()\n",
    "    word=values[0]\n",
    "    coefs=np.asarray(values[1:],dtype='float')\n",
    "    embedding_index[word]=coefs\n",
    "    \n",
    "f.close()"
   ]
  },
  {
   "cell_type": "code",
   "execution_count": 19,
   "id": "71539784",
   "metadata": {},
   "outputs": [],
   "source": [
    "def embedding_output(X):\n",
    "    maxLen=50 #max words in sentence\n",
    "    embedding_out=np.zeros((X.shape[0],maxLen,50))\n",
    "    for ix in range(X.shape[0]):\n",
    "        # print(ix)\n",
    "        try:\n",
    "            X[ix]=X[ix].split()\n",
    "        except:\n",
    "            pass\n",
    "        for ij in range(maxLen):\n",
    "            try:\n",
    "                embedding_out[ix][ij]=embedding_index[X[ix][ij].lower()]\n",
    "            except:\n",
    "                embedding_out[ix][ij]=np.zeros((50,))\n",
    "    return embedding_out"
   ]
  },
  {
   "cell_type": "code",
   "execution_count": 20,
   "id": "b536bb16",
   "metadata": {},
   "outputs": [],
   "source": [
    "X_train=embedding_output(X_train)\n",
    "X_test=embedding_output(X_test)"
   ]
  },
  {
   "cell_type": "code",
   "execution_count": 21,
   "id": "f805d623",
   "metadata": {},
   "outputs": [
    {
     "data": {
      "text/plain": [
       "((849, 50, 50), (849, 3), (212, 50, 50), (212, 3))"
      ]
     },
     "execution_count": 21,
     "metadata": {},
     "output_type": "execute_result"
    }
   ],
   "source": [
    "X_train.shape,Y_train.shape,X_test.shape,Y_test.shape"
   ]
  },
  {
   "cell_type": "code",
   "execution_count": 22,
   "id": "04cccc7c",
   "metadata": {},
   "outputs": [],
   "source": [
    "model=Sequential()\n",
    "model.add(LSTM(50,input_shape=(50,50),return_sequences=True))\n",
    "model.add(Dropout(0.1))\n",
    "model.add(LSTM(20,return_sequences=True))\n",
    "model.add(Dropout(0.1))\n",
    "model.add(LSTM(10,return_sequences=False))\n",
    "model.add(Dropout(0.1))\n",
    "model.add(Dense(3,activation='softmax'))\n",
    "model.compile(loss='categorical_crossentropy',optimizer='adam',metrics=['acc'])"
   ]
  },
  {
   "cell_type": "code",
   "execution_count": 23,
   "id": "b2f18400",
   "metadata": {},
   "outputs": [
    {
     "name": "stdout",
     "output_type": "stream",
     "text": [
      "Model: \"sequential\"\n",
      "_________________________________________________________________\n",
      " Layer (type)                Output Shape              Param #   \n",
      "=================================================================\n",
      " lstm (LSTM)                 (None, 50, 50)            20200     \n",
      "                                                                 \n",
      " dropout (Dropout)           (None, 50, 50)            0         \n",
      "                                                                 \n",
      " lstm_1 (LSTM)               (None, 50, 20)            5680      \n",
      "                                                                 \n",
      " dropout_1 (Dropout)         (None, 50, 20)            0         \n",
      "                                                                 \n",
      " lstm_2 (LSTM)               (None, 10)                1240      \n",
      "                                                                 \n",
      " dropout_2 (Dropout)         (None, 10)                0         \n",
      "                                                                 \n",
      " dense (Dense)               (None, 3)                 33        \n",
      "                                                                 \n",
      "=================================================================\n",
      "Total params: 27153 (106.07 KB)\n",
      "Trainable params: 27153 (106.07 KB)\n",
      "Non-trainable params: 0 (0.00 Byte)\n",
      "_________________________________________________________________\n"
     ]
    }
   ],
   "source": [
    "model.summary()"
   ]
  },
  {
   "cell_type": "code",
   "execution_count": 24,
   "id": "10b980ad",
   "metadata": {},
   "outputs": [
    {
     "name": "stdout",
     "output_type": "stream",
     "text": [
      "Epoch 1/25\n",
      "14/14 [==============================] - 6s 107ms/step - loss: 1.0725 - acc: 0.4418 - val_loss: 1.0503 - val_acc: 0.4765\n",
      "Epoch 2/25\n",
      "14/14 [==============================] - 0s 33ms/step - loss: 1.0272 - acc: 0.4448 - val_loss: 0.8948 - val_acc: 0.6353\n",
      "Epoch 3/25\n",
      "14/14 [==============================] - 0s 35ms/step - loss: 0.8549 - acc: 0.5876 - val_loss: 0.9425 - val_acc: 0.5000\n",
      "Epoch 4/25\n",
      "14/14 [==============================] - 0s 33ms/step - loss: 0.8429 - acc: 0.5714 - val_loss: 0.7605 - val_acc: 0.6412\n",
      "Epoch 5/25\n",
      "14/14 [==============================] - 1s 37ms/step - loss: 0.7593 - acc: 0.6127 - val_loss: 0.7413 - val_acc: 0.6412\n",
      "Epoch 6/25\n",
      "14/14 [==============================] - 1s 42ms/step - loss: 0.7305 - acc: 0.6289 - val_loss: 0.6964 - val_acc: 0.6412\n",
      "Epoch 7/25\n",
      "14/14 [==============================] - 1s 52ms/step - loss: 0.6873 - acc: 0.6436 - val_loss: 0.7060 - val_acc: 0.6412\n",
      "Epoch 8/25\n",
      "14/14 [==============================] - 0s 34ms/step - loss: 0.6691 - acc: 0.6672 - val_loss: 0.6147 - val_acc: 0.7529\n",
      "Epoch 9/25\n",
      "14/14 [==============================] - 0s 35ms/step - loss: 0.6127 - acc: 0.6878 - val_loss: 0.6395 - val_acc: 0.6882\n",
      "Epoch 10/25\n",
      "14/14 [==============================] - 1s 45ms/step - loss: 0.5761 - acc: 0.7040 - val_loss: 0.5749 - val_acc: 0.7412\n",
      "Epoch 11/25\n",
      "14/14 [==============================] - 1s 61ms/step - loss: 0.5614 - acc: 0.7054 - val_loss: 0.5771 - val_acc: 0.7706\n",
      "Epoch 12/25\n",
      "14/14 [==============================] - 1s 47ms/step - loss: 0.5303 - acc: 0.7261 - val_loss: 0.5097 - val_acc: 0.7882\n",
      "Epoch 13/25\n",
      "14/14 [==============================] - 1s 38ms/step - loss: 0.4955 - acc: 0.7835 - val_loss: 0.6350 - val_acc: 0.8000\n",
      "Epoch 14/25\n",
      "14/14 [==============================] - 0s 32ms/step - loss: 0.4960 - acc: 0.8100 - val_loss: 0.5588 - val_acc: 0.7471\n",
      "Epoch 15/25\n",
      "14/14 [==============================] - 1s 39ms/step - loss: 0.4485 - acc: 0.8454 - val_loss: 0.4228 - val_acc: 0.8529\n",
      "Epoch 16/25\n",
      "14/14 [==============================] - 1s 52ms/step - loss: 0.4974 - acc: 0.8409 - val_loss: 0.3837 - val_acc: 0.8706\n",
      "Epoch 17/25\n",
      "14/14 [==============================] - 1s 39ms/step - loss: 0.4524 - acc: 0.8483 - val_loss: 0.3671 - val_acc: 0.8824\n",
      "Epoch 18/25\n",
      "14/14 [==============================] - 1s 48ms/step - loss: 0.3695 - acc: 0.8851 - val_loss: 0.4494 - val_acc: 0.8118\n",
      "Epoch 19/25\n",
      "14/14 [==============================] - 1s 60ms/step - loss: 0.3587 - acc: 0.8837 - val_loss: 0.5938 - val_acc: 0.8294\n",
      "Epoch 20/25\n",
      "14/14 [==============================] - 1s 44ms/step - loss: 0.3817 - acc: 0.8719 - val_loss: 0.3548 - val_acc: 0.8941\n",
      "Epoch 21/25\n",
      "14/14 [==============================] - 0s 36ms/step - loss: 0.2939 - acc: 0.9219 - val_loss: 0.3472 - val_acc: 0.8824\n",
      "Epoch 22/25\n",
      "14/14 [==============================] - 0s 34ms/step - loss: 0.2869 - acc: 0.9205 - val_loss: 0.3283 - val_acc: 0.8941\n",
      "Epoch 23/25\n",
      "14/14 [==============================] - 0s 34ms/step - loss: 0.2970 - acc: 0.9028 - val_loss: 0.3332 - val_acc: 0.8882\n",
      "Epoch 24/25\n",
      "14/14 [==============================] - 1s 40ms/step - loss: 0.2944 - acc: 0.9057 - val_loss: 0.2908 - val_acc: 0.9000\n",
      "Epoch 25/25\n",
      "14/14 [==============================] - 0s 34ms/step - loss: 0.2453 - acc: 0.9308 - val_loss: 0.4266 - val_acc: 0.8824\n"
     ]
    }
   ],
   "source": [
    "hist=model.fit(X_train,Y_train,epochs=25,batch_size=50,shuffle=True,validation_split=0.2)"
   ]
  },
  {
   "cell_type": "code",
   "execution_count": 25,
   "id": "45e54015",
   "metadata": {},
   "outputs": [
    {
     "name": "stdout",
     "output_type": "stream",
     "text": [
      "7/7 [==============================] - 0s 10ms/step - loss: 0.4118 - acc: 0.8632\n"
     ]
    },
    {
     "data": {
      "text/plain": [
       "[0.41180214285850525, 0.8632075190544128]"
      ]
     },
     "execution_count": 25,
     "metadata": {},
     "output_type": "execute_result"
    }
   ],
   "source": [
    "model.evaluate(X_test,Y_test)"
   ]
  },
  {
   "cell_type": "code",
   "execution_count": 32,
   "id": "132dc0eb",
   "metadata": {},
   "outputs": [
    {
     "name": "stderr",
     "output_type": "stream",
     "text": [
      "D:\\anaconda\\Lib\\site-packages\\keras\\src\\engine\\training.py:3000: UserWarning: You are saving your model as an HDF5 file via `model.save()`. This file format is considered legacy. We recommend using instead the native Keras format, e.g. `model.save('my_model.keras')`.\n",
      "  saving_api.save_model(\n"
     ]
    }
   ],
   "source": [
    "# model.save('model.h5')"
   ]
  },
  {
   "cell_type": "code",
   "execution_count": 27,
   "id": "ca949e7e",
   "metadata": {},
   "outputs": [],
   "source": [
    "def predict(X):\n",
    "    X=np.asarray([X])\n",
    "    print(X.shape)\n",
    "    X=embedding_output(X)\n",
    "    print(model.predict(X))\n",
    "    return np.argmax(model.predict(X))"
   ]
  },
  {
   "cell_type": "code",
   "execution_count": 28,
   "id": "1d1d6019",
   "metadata": {},
   "outputs": [],
   "source": [
    "sent='He is a good student'\n",
    "sent1='He is the bad student'\n",
    "sent2='he is ok student'"
   ]
  },
  {
   "cell_type": "code",
   "execution_count": 29,
   "id": "4ab45d58",
   "metadata": {},
   "outputs": [
    {
     "name": "stdout",
     "output_type": "stream",
     "text": [
      "(1,)\n",
      "1/1 [==============================] - 1s 873ms/step\n",
      "[[0.20561226 0.01474614 0.77964157]]\n",
      "1/1 [==============================] - 0s 8ms/step\n",
      "2\n"
     ]
    }
   ],
   "source": [
    "print(predict(sent))"
   ]
  },
  {
   "cell_type": "code",
   "execution_count": 30,
   "id": "fc6d0016",
   "metadata": {},
   "outputs": [
    {
     "name": "stdout",
     "output_type": "stream",
     "text": [
      "(1,)\n",
      "1/1 [==============================] - 0s 24ms/step\n",
      "[[0.56523114 0.36836687 0.066402  ]]\n",
      "1/1 [==============================] - 0s 17ms/step\n",
      "0\n"
     ]
    }
   ],
   "source": [
    "print(predict(sent1))"
   ]
  },
  {
   "cell_type": "code",
   "execution_count": 31,
   "id": "e51dcaa8",
   "metadata": {},
   "outputs": [
    {
     "name": "stdout",
     "output_type": "stream",
     "text": [
      "(1,)\n",
      "1/1 [==============================] - 0s 23ms/step\n",
      "[[0.80896175 0.07095587 0.12008242]]\n",
      "1/1 [==============================] - 0s 21ms/step\n",
      "0\n"
     ]
    }
   ],
   "source": [
    "print(predict(sent2))"
   ]
  },
  {
   "cell_type": "code",
   "execution_count": 2,
   "id": "ad651d84",
   "metadata": {},
   "outputs": [],
   "source": [
    "model=load_model('model.h5')"
   ]
  },
  {
   "cell_type": "code",
   "execution_count": 3,
   "id": "d549fc58",
   "metadata": {},
   "outputs": [
    {
     "data": {
      "text/plain": [
       "['sentiment_model.pkl']"
      ]
     },
     "execution_count": 3,
     "metadata": {},
     "output_type": "execute_result"
    }
   ],
   "source": [
    "import joblib\n",
    "joblib.dump(model,'sentiment_model.pkl')"
   ]
  },
  {
   "cell_type": "code",
   "execution_count": null,
   "id": "967cf9c0",
   "metadata": {},
   "outputs": [],
   "source": []
  }
 ],
 "metadata": {
  "kernelspec": {
   "display_name": "Python 3 (ipykernel)",
   "language": "python",
   "name": "python3"
  },
  "language_info": {
   "codemirror_mode": {
    "name": "ipython",
    "version": 3
   },
   "file_extension": ".py",
   "mimetype": "text/x-python",
   "name": "python",
   "nbconvert_exporter": "python",
   "pygments_lexer": "ipython3",
   "version": "3.11.5"
  }
 },
 "nbformat": 4,
 "nbformat_minor": 5
}
