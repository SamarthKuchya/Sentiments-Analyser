{
 "cells": [
  {
   "cell_type": "code",
   "execution_count": 1,
   "id": "d5481a50-bc88-40df-8585-51451016ac7f",
   "metadata": {},
   "outputs": [],
   "source": [
    "import keras\n",
    "from keras.models import *\n",
    "from keras.layers import *\n",
    "import numpy as np\n",
    "import nltk\n",
    "import pandas as pd\n",
    "from keras.utils import pad_sequences\n",
    "from tensorflow.keras.utils import to_categorical"
   ]
  },
  {
   "cell_type": "code",
   "execution_count": 2,
   "id": "45b14b68-2279-4b6a-86e3-e5a6d7859125",
   "metadata": {},
   "outputs": [],
   "source": [
    "data_train=pd.read_csv('train_df.csv')"
   ]
  },
  {
   "cell_type": "code",
   "execution_count": 3,
   "id": "352da3ea-7e34-4137-8134-457928b6e096",
   "metadata": {},
   "outputs": [],
   "source": [
    "data_val=pd.read_csv('val_df.csv')"
   ]
  },
  {
   "cell_type": "code",
   "execution_count": 4,
   "id": "72992aa6-1705-4d70-80d4-90ea4cb611f9",
   "metadata": {},
   "outputs": [
    {
     "data": {
      "text/html": [
       "<div>\n",
       "<style scoped>\n",
       "    .dataframe tbody tr th:only-of-type {\n",
       "        vertical-align: middle;\n",
       "    }\n",
       "\n",
       "    .dataframe tbody tr th {\n",
       "        vertical-align: top;\n",
       "    }\n",
       "\n",
       "    .dataframe thead th {\n",
       "        text-align: right;\n",
       "    }\n",
       "</style>\n",
       "<table border=\"1\" class=\"dataframe\">\n",
       "  <thead>\n",
       "    <tr style=\"text-align: right;\">\n",
       "      <th></th>\n",
       "      <th>id</th>\n",
       "      <th>text</th>\n",
       "      <th>label</th>\n",
       "      <th>sentiment</th>\n",
       "    </tr>\n",
       "  </thead>\n",
       "  <tbody>\n",
       "    <tr>\n",
       "      <th>0</th>\n",
       "      <td>317</td>\n",
       "      <td>Laying in bed til workkk... Oh the life. Defin...</td>\n",
       "      <td>0</td>\n",
       "      <td>negative</td>\n",
       "    </tr>\n",
       "    <tr>\n",
       "      <th>1</th>\n",
       "      <td>24292</td>\n",
       "      <td>ooohhh imma need you to get on that asap love...</td>\n",
       "      <td>2</td>\n",
       "      <td>positive</td>\n",
       "    </tr>\n",
       "    <tr>\n",
       "      <th>2</th>\n",
       "      <td>3513</td>\n",
       "      <td>Thanks! I love it they have a video, so you d...</td>\n",
       "      <td>2</td>\n",
       "      <td>positive</td>\n",
       "    </tr>\n",
       "    <tr>\n",
       "      <th>3</th>\n",
       "      <td>4322</td>\n",
       "      <td>I left my ipod in the car so now its all warm.</td>\n",
       "      <td>2</td>\n",
       "      <td>positive</td>\n",
       "    </tr>\n",
       "    <tr>\n",
       "      <th>4</th>\n",
       "      <td>6203</td>\n",
       "      <td>Great app. Only complaint is that I'd like the...</td>\n",
       "      <td>2</td>\n",
       "      <td>positive</td>\n",
       "    </tr>\n",
       "    <tr>\n",
       "      <th>...</th>\n",
       "      <td>...</td>\n",
       "      <td>...</td>\n",
       "      <td>...</td>\n",
       "      <td>...</td>\n",
       "    </tr>\n",
       "    <tr>\n",
       "      <th>5200</th>\n",
       "      <td>9043</td>\n",
       "      <td>Not sure what happened but now I have to hit t...</td>\n",
       "      <td>1</td>\n",
       "      <td>neutral</td>\n",
       "    </tr>\n",
       "    <tr>\n",
       "      <th>5201</th>\n",
       "      <td>6160</td>\n",
       "      <td>Pretty good app, lets you organize tasks by ca...</td>\n",
       "      <td>2</td>\n",
       "      <td>positive</td>\n",
       "    </tr>\n",
       "    <tr>\n",
       "      <th>5202</th>\n",
       "      <td>5655</td>\n",
       "      <td>This app is a piece of sh**. It won't sync my ...</td>\n",
       "      <td>0</td>\n",
       "      <td>negative</td>\n",
       "    </tr>\n",
       "    <tr>\n",
       "      <th>5203</th>\n",
       "      <td>11834</td>\n",
       "      <td>: Very interested. However, low carbs for the ...</td>\n",
       "      <td>2</td>\n",
       "      <td>positive</td>\n",
       "    </tr>\n",
       "    <tr>\n",
       "      <th>5204</th>\n",
       "      <td>6904</td>\n",
       "      <td>Good app, but not exactly what I was looking f...</td>\n",
       "      <td>2</td>\n",
       "      <td>positive</td>\n",
       "    </tr>\n",
       "  </tbody>\n",
       "</table>\n",
       "<p>5205 rows × 4 columns</p>\n",
       "</div>"
      ],
      "text/plain": [
       "         id                                               text  label  \\\n",
       "0       317  Laying in bed til workkk... Oh the life. Defin...      0   \n",
       "1     24292   ooohhh imma need you to get on that asap love...      2   \n",
       "2      3513   Thanks! I love it they have a video, so you d...      2   \n",
       "3      4322     I left my ipod in the car so now its all warm.      2   \n",
       "4      6203  Great app. Only complaint is that I'd like the...      2   \n",
       "...     ...                                                ...    ...   \n",
       "5200   9043  Not sure what happened but now I have to hit t...      1   \n",
       "5201   6160  Pretty good app, lets you organize tasks by ca...      2   \n",
       "5202   5655  This app is a piece of sh**. It won't sync my ...      0   \n",
       "5203  11834  : Very interested. However, low carbs for the ...      2   \n",
       "5204   6904  Good app, but not exactly what I was looking f...      2   \n",
       "\n",
       "     sentiment  \n",
       "0     negative  \n",
       "1     positive  \n",
       "2     positive  \n",
       "3     positive  \n",
       "4     positive  \n",
       "...        ...  \n",
       "5200   neutral  \n",
       "5201  positive  \n",
       "5202  negative  \n",
       "5203  positive  \n",
       "5204  positive  \n",
       "\n",
       "[5205 rows x 4 columns]"
      ]
     },
     "execution_count": 4,
     "metadata": {},
     "output_type": "execute_result"
    }
   ],
   "source": [
    "data_val"
   ]
  },
  {
   "cell_type": "code",
   "execution_count": 5,
   "id": "3c914a02-acfb-454e-9cb4-0e609059cc6a",
   "metadata": {},
   "outputs": [],
   "source": [
    "data_train=pd.concat([data_train,data_val])"
   ]
  },
  {
   "cell_type": "code",
   "execution_count": 6,
   "id": "e68c7e22-970a-4227-bdd5-6a7f6814d8b3",
   "metadata": {},
   "outputs": [
    {
     "data": {
      "text/html": [
       "<div>\n",
       "<style scoped>\n",
       "    .dataframe tbody tr th:only-of-type {\n",
       "        vertical-align: middle;\n",
       "    }\n",
       "\n",
       "    .dataframe tbody tr th {\n",
       "        vertical-align: top;\n",
       "    }\n",
       "\n",
       "    .dataframe thead th {\n",
       "        text-align: right;\n",
       "    }\n",
       "</style>\n",
       "<table border=\"1\" class=\"dataframe\">\n",
       "  <thead>\n",
       "    <tr style=\"text-align: right;\">\n",
       "      <th></th>\n",
       "      <th>id</th>\n",
       "      <th>text</th>\n",
       "      <th>label</th>\n",
       "      <th>sentiment</th>\n",
       "    </tr>\n",
       "  </thead>\n",
       "  <tbody>\n",
       "    <tr>\n",
       "      <th>0</th>\n",
       "      <td>9536</td>\n",
       "      <td>Cooking microwave pizzas, yummy</td>\n",
       "      <td>2</td>\n",
       "      <td>positive</td>\n",
       "    </tr>\n",
       "    <tr>\n",
       "      <th>1</th>\n",
       "      <td>6135</td>\n",
       "      <td>Any plans of allowing sub tasks to show up in ...</td>\n",
       "      <td>1</td>\n",
       "      <td>neutral</td>\n",
       "    </tr>\n",
       "    <tr>\n",
       "      <th>2</th>\n",
       "      <td>17697</td>\n",
       "      <td>I love the humor, I just reworded it. Like sa...</td>\n",
       "      <td>2</td>\n",
       "      <td>positive</td>\n",
       "    </tr>\n",
       "    <tr>\n",
       "      <th>3</th>\n",
       "      <td>14182</td>\n",
       "      <td>naw idk what ur talkin about</td>\n",
       "      <td>1</td>\n",
       "      <td>neutral</td>\n",
       "    </tr>\n",
       "    <tr>\n",
       "      <th>4</th>\n",
       "      <td>17840</td>\n",
       "      <td>That sucks to hear. I hate days like that</td>\n",
       "      <td>0</td>\n",
       "      <td>negative</td>\n",
       "    </tr>\n",
       "    <tr>\n",
       "      <th>...</th>\n",
       "      <td>...</td>\n",
       "      <td>...</td>\n",
       "      <td>...</td>\n",
       "      <td>...</td>\n",
       "    </tr>\n",
       "    <tr>\n",
       "      <th>5200</th>\n",
       "      <td>9043</td>\n",
       "      <td>Not sure what happened but now I have to hit t...</td>\n",
       "      <td>1</td>\n",
       "      <td>neutral</td>\n",
       "    </tr>\n",
       "    <tr>\n",
       "      <th>5201</th>\n",
       "      <td>6160</td>\n",
       "      <td>Pretty good app, lets you organize tasks by ca...</td>\n",
       "      <td>2</td>\n",
       "      <td>positive</td>\n",
       "    </tr>\n",
       "    <tr>\n",
       "      <th>5202</th>\n",
       "      <td>5655</td>\n",
       "      <td>This app is a piece of sh**. It won't sync my ...</td>\n",
       "      <td>0</td>\n",
       "      <td>negative</td>\n",
       "    </tr>\n",
       "    <tr>\n",
       "      <th>5203</th>\n",
       "      <td>11834</td>\n",
       "      <td>: Very interested. However, low carbs for the ...</td>\n",
       "      <td>2</td>\n",
       "      <td>positive</td>\n",
       "    </tr>\n",
       "    <tr>\n",
       "      <th>5204</th>\n",
       "      <td>6904</td>\n",
       "      <td>Good app, but not exactly what I was looking f...</td>\n",
       "      <td>2</td>\n",
       "      <td>positive</td>\n",
       "    </tr>\n",
       "  </tbody>\n",
       "</table>\n",
       "<p>36437 rows × 4 columns</p>\n",
       "</div>"
      ],
      "text/plain": [
       "         id                                               text  label  \\\n",
       "0      9536                    Cooking microwave pizzas, yummy      2   \n",
       "1      6135  Any plans of allowing sub tasks to show up in ...      1   \n",
       "2     17697   I love the humor, I just reworded it. Like sa...      2   \n",
       "3     14182                       naw idk what ur talkin about      1   \n",
       "4     17840          That sucks to hear. I hate days like that      0   \n",
       "...     ...                                                ...    ...   \n",
       "5200   9043  Not sure what happened but now I have to hit t...      1   \n",
       "5201   6160  Pretty good app, lets you organize tasks by ca...      2   \n",
       "5202   5655  This app is a piece of sh**. It won't sync my ...      0   \n",
       "5203  11834  : Very interested. However, low carbs for the ...      2   \n",
       "5204   6904  Good app, but not exactly what I was looking f...      2   \n",
       "\n",
       "     sentiment  \n",
       "0     positive  \n",
       "1      neutral  \n",
       "2     positive  \n",
       "3      neutral  \n",
       "4     negative  \n",
       "...        ...  \n",
       "5200   neutral  \n",
       "5201  positive  \n",
       "5202  negative  \n",
       "5203  positive  \n",
       "5204  positive  \n",
       "\n",
       "[36437 rows x 4 columns]"
      ]
     },
     "execution_count": 6,
     "metadata": {},
     "output_type": "execute_result"
    }
   ],
   "source": [
    "data_train"
   ]
  },
  {
   "cell_type": "code",
   "execution_count": 7,
   "id": "9267ce5f-13fa-4b74-a382-a7f3544966bf",
   "metadata": {},
   "outputs": [],
   "source": [
    "X_train=data_train['text'].values\n",
    "Y_train=data_train['label'].values"
   ]
  },
  {
   "cell_type": "code",
   "execution_count": 8,
   "id": "c2ec2e03-76d4-4d3e-8477-f5eadbe51ee9",
   "metadata": {},
   "outputs": [
    {
     "data": {
      "text/plain": [
       "((36437,), (36437,))"
      ]
     },
     "execution_count": 8,
     "metadata": {},
     "output_type": "execute_result"
    }
   ],
   "source": [
    "X_train.shape,Y_train.shape"
   ]
  },
  {
   "cell_type": "code",
   "execution_count": 9,
   "id": "9d89ed76-bec0-458e-b990-8c4820809a40",
   "metadata": {},
   "outputs": [],
   "source": [
    "# data_val=pd.read_csv('val_df.csv')\n",
    "# X_val=data_val['text'].values\n",
    "# Y_val=data_val['label'].values"
   ]
  },
  {
   "cell_type": "code",
   "execution_count": 10,
   "id": "9936c90e-b9e0-46f6-b18a-a964c9a65998",
   "metadata": {},
   "outputs": [],
   "source": [
    "data_test=pd.read_csv('test_df.csv')\n",
    "X_test=data_test['text'].values\n",
    "Y_test=data_test['label'].values"
   ]
  },
  {
   "cell_type": "code",
   "execution_count": 11,
   "id": "f110b5a3-02ca-469f-bf5f-55c9e80699a0",
   "metadata": {},
   "outputs": [],
   "source": [
    "f=open('D:/Skills/Emoji Classifier/glove.6B.50d.txt',encoding='utf-8')\n",
    "embedding_index={}\n",
    "\n",
    "for line in f:\n",
    "    values=line.split()\n",
    "    word=values[0]\n",
    "    coefs=np.asarray(values[1:],dtype='float')\n",
    "    embedding_index[word]=coefs\n",
    "    \n",
    "f.close()"
   ]
  },
  {
   "cell_type": "code",
   "execution_count": 12,
   "id": "4d97a2ad-5fe8-460b-9774-ed15a907ac99",
   "metadata": {},
   "outputs": [],
   "source": [
    "def embedding_output(X):\n",
    "    maxLen=50 #max words in sentence\n",
    "    embedding_out=np.zeros((X.shape[0],maxLen,50))\n",
    "    for ix in range(X.shape[0]):\n",
    "        # print(ix)\n",
    "        try:\n",
    "            X[ix]=X[ix].split()\n",
    "        except:\n",
    "            pass\n",
    "        \n",
    "        for ij in range(maxLen):\n",
    "            try:\n",
    "                embedding_out[ix][ij]=embedding_index[X[ix][ij].lower()]\n",
    "            except:\n",
    "                embedding_out[ix][ij]=np.zeros((50,))\n",
    "    return embedding_out"
   ]
  },
  {
   "cell_type": "code",
   "execution_count": 13,
   "id": "0b5e641f-c717-4e06-981c-1baf24b23c06",
   "metadata": {},
   "outputs": [],
   "source": [
    "# embedding_matrix_train=embedding_output(X_train)\n",
    "# embedding_matrix_test=embedding_output(X_val)"
   ]
  },
  {
   "cell_type": "code",
   "execution_count": 14,
   "id": "86aa7a2d-a1e5-4326-bd48-8237fbaf3fce",
   "metadata": {
    "scrolled": true
   },
   "outputs": [],
   "source": [
    "embedding_matrix_train=embedding_output(X_train)\n",
    "# embedding_matrix_val=embedding_output(X_val)\n",
    "# embedding_matrix_train=tfidf.fit_transform(X_train).toarray()\n",
    "# embedding_matrix_val=tfidf.fit_transform(X_val).toarray()\n",
    "Y_train=to_categorical(Y_train)\n",
    "# Y_val=to_categorical(Y_val)"
   ]
  },
  {
   "cell_type": "code",
   "execution_count": 15,
   "id": "a6ec4dab-a036-44d7-ac3a-7d9bd8ef2d73",
   "metadata": {},
   "outputs": [],
   "source": [
    "embedding_matrix_test=embedding_output(X_test)\n",
    "Y_test=to_categorical(Y_test)"
   ]
  },
  {
   "cell_type": "code",
   "execution_count": 16,
   "id": "23a3541b-7df3-4891-b8ec-b90bfc045bc9",
   "metadata": {},
   "outputs": [
    {
     "name": "stdout",
     "output_type": "stream",
     "text": [
      "(5206, 50, 50) (5206, 3)\n"
     ]
    }
   ],
   "source": [
    "print(embedding_matrix_test.shape,Y_test.shape)"
   ]
  },
  {
   "cell_type": "code",
   "execution_count": 17,
   "id": "368af3e3-5df1-4e90-ac35-3478fd2d509d",
   "metadata": {},
   "outputs": [
    {
     "data": {
      "text/plain": [
       "(36437, 3)"
      ]
     },
     "execution_count": 17,
     "metadata": {},
     "output_type": "execute_result"
    }
   ],
   "source": [
    "Y_train.shape"
   ]
  },
  {
   "cell_type": "code",
   "execution_count": 18,
   "id": "9a34190c-e2e1-4737-89a9-7e7a6909e5b4",
   "metadata": {},
   "outputs": [
    {
     "data": {
      "text/plain": [
       "(36437, 50, 50)"
      ]
     },
     "execution_count": 18,
     "metadata": {},
     "output_type": "execute_result"
    }
   ],
   "source": [
    "embedding_matrix_train.shape"
   ]
  },
  {
   "cell_type": "code",
   "execution_count": 19,
   "id": "14000109-30ba-4330-bd49-d5cc13ad9bfd",
   "metadata": {},
   "outputs": [
    {
     "data": {
      "text/plain": [
       "(36437, 3)"
      ]
     },
     "execution_count": 19,
     "metadata": {},
     "output_type": "execute_result"
    }
   ],
   "source": [
    "Y_train.shape"
   ]
  },
  {
   "cell_type": "code",
   "execution_count": 29,
   "id": "a86a4f0a-7490-4dc7-9438-4e7cbff82d9c",
   "metadata": {},
   "outputs": [
    {
     "name": "stdout",
     "output_type": "stream",
     "text": [
      "WARNING:tensorflow:Layer lstm_3 will not use cuDNN kernels since it doesn't meet the criteria. It will use a generic GPU kernel as fallback when running on GPU.\n",
      "WARNING:tensorflow:Layer lstm_4 will not use cuDNN kernels since it doesn't meet the criteria. It will use a generic GPU kernel as fallback when running on GPU.\n",
      "WARNING:tensorflow:Layer lstm_5 will not use cuDNN kernels since it doesn't meet the criteria. It will use a generic GPU kernel as fallback when running on GPU.\n"
     ]
    }
   ],
   "source": [
    "model=Sequential()\n",
    "model.add(LSTM(100,input_shape=(50,50),return_sequences=True,activation='relu'))\n",
    "model.add(Dropout(0.1))\n",
    "# model.add(LSTM(100,return_sequences=True))\n",
    "# model.add(Dropout(0.2))\n",
    "model.add(LSTM(50,return_sequences=True,activation='relu'))\n",
    "model.add(Dropout(0.1))\n",
    "model.add(LSTM(25,return_sequences=False,activation='relu'))\n",
    "model.add(Dropout(0.1))\n",
    "model.add(Dense(10,activation='relu'))\n",
    "model.add(Dense(3,activation='softmax'))\n",
    "model.compile(loss='categorical_crossentropy',optimizer='adam',metrics=['acc'])"
   ]
  },
  {
   "cell_type": "code",
   "execution_count": 30,
   "id": "d0371b43-4e2a-444f-b827-912e6ecd76e6",
   "metadata": {},
   "outputs": [
    {
     "name": "stdout",
     "output_type": "stream",
     "text": [
      "Model: \"sequential_1\"\n",
      "_________________________________________________________________\n",
      " Layer (type)                Output Shape              Param #   \n",
      "=================================================================\n",
      " lstm_3 (LSTM)               (None, 50, 100)           60400     \n",
      "                                                                 \n",
      " dropout_3 (Dropout)         (None, 50, 100)           0         \n",
      "                                                                 \n",
      " lstm_4 (LSTM)               (None, 50, 50)            30200     \n",
      "                                                                 \n",
      " dropout_4 (Dropout)         (None, 50, 50)            0         \n",
      "                                                                 \n",
      " lstm_5 (LSTM)               (None, 25)                7600      \n",
      "                                                                 \n",
      " dropout_5 (Dropout)         (None, 25)                0         \n",
      "                                                                 \n",
      " dense_1 (Dense)             (None, 10)                260       \n",
      "                                                                 \n",
      " dense_2 (Dense)             (None, 3)                 33        \n",
      "                                                                 \n",
      "=================================================================\n",
      "Total params: 98,493\n",
      "Trainable params: 98,493\n",
      "Non-trainable params: 0\n",
      "_________________________________________________________________\n"
     ]
    }
   ],
   "source": [
    "model.summary()"
   ]
  },
  {
   "cell_type": "code",
   "execution_count": 31,
   "id": "a9e4a836",
   "metadata": {},
   "outputs": [
    {
     "name": "stdout",
     "output_type": "stream",
     "text": [
      "Epoch 1/25\n",
      "20/20 [==============================] - 11s 360ms/step - loss: 1.0961 - acc: 0.3757 - val_loss: 1.0928 - val_acc: 0.3845\n",
      "Epoch 2/25\n",
      "20/20 [==============================] - 6s 310ms/step - loss: 1.0916 - acc: 0.3821 - val_loss: 1.0905 - val_acc: 0.3847\n",
      "Epoch 3/25\n",
      "20/20 [==============================] - 6s 313ms/step - loss: 1.0884 - acc: 0.3850 - val_loss: 1.0811 - val_acc: 0.3927\n",
      "Epoch 4/25\n",
      "20/20 [==============================] - 6s 312ms/step - loss: 1.0867 - acc: 0.3828 - val_loss: 1.0839 - val_acc: 0.3809\n",
      "Epoch 5/25\n",
      "20/20 [==============================] - 6s 319ms/step - loss: 1.0978 - acc: 0.3737 - val_loss: 1.0954 - val_acc: 0.3809\n",
      "Epoch 6/25\n",
      "20/20 [==============================] - 6s 306ms/step - loss: 1.0944 - acc: 0.3815 - val_loss: 1.0921 - val_acc: 0.3856\n",
      "Epoch 7/25\n",
      "20/20 [==============================] - 6s 320ms/step - loss: 1.0876 - acc: 0.4020 - val_loss: 1.0735 - val_acc: 0.4485\n",
      "Epoch 8/25\n",
      "20/20 [==============================] - 6s 322ms/step - loss: 1.0621 - acc: 0.4428 - val_loss: 1.0142 - val_acc: 0.4527\n",
      "Epoch 9/25\n",
      "20/20 [==============================] - 6s 313ms/step - loss: 0.9948 - acc: 0.4915 - val_loss: 0.9490 - val_acc: 0.5347\n",
      "Epoch 10/25\n",
      "20/20 [==============================] - 7s 329ms/step - loss: 0.9639 - acc: 0.5092 - val_loss: 0.9592 - val_acc: 0.4914\n",
      "Epoch 11/25\n",
      "20/20 [==============================] - 6s 328ms/step - loss: 0.9263 - acc: 0.5452 - val_loss: 0.9090 - val_acc: 0.5634\n",
      "Epoch 12/25\n",
      "20/20 [==============================] - 6s 316ms/step - loss: 0.8951 - acc: 0.5755 - val_loss: 0.8891 - val_acc: 0.5777\n",
      "Epoch 13/25\n",
      "20/20 [==============================] - 6s 325ms/step - loss: 0.8788 - acc: 0.5888 - val_loss: 0.8961 - val_acc: 0.5731\n",
      "Epoch 14/25\n",
      "20/20 [==============================] - 6s 302ms/step - loss: 0.8636 - acc: 0.6038 - val_loss: 0.8662 - val_acc: 0.5965\n",
      "Epoch 15/25\n",
      "20/20 [==============================] - 6s 318ms/step - loss: 0.8538 - acc: 0.6084 - val_loss: 0.8588 - val_acc: 0.5967\n",
      "Epoch 16/25\n",
      "20/20 [==============================] - 6s 309ms/step - loss: 0.8472 - acc: 0.6123 - val_loss: 0.8484 - val_acc: 0.6055\n",
      "Epoch 17/25\n",
      "20/20 [==============================] - 6s 328ms/step - loss: 0.8402 - acc: 0.6184 - val_loss: 0.8681 - val_acc: 0.5966\n",
      "Epoch 18/25\n",
      "20/20 [==============================] - 6s 304ms/step - loss: 0.8333 - acc: 0.6253 - val_loss: 0.8383 - val_acc: 0.6148\n",
      "Epoch 19/25\n",
      "20/20 [==============================] - 6s 316ms/step - loss: 0.8235 - acc: 0.6331 - val_loss: 0.8333 - val_acc: 0.6153\n",
      "Epoch 20/25\n",
      "20/20 [==============================] - 6s 311ms/step - loss: 0.8175 - acc: 0.6369 - val_loss: 0.8307 - val_acc: 0.6206\n",
      "Epoch 21/25\n",
      "20/20 [==============================] - 6s 316ms/step - loss: 0.8164 - acc: 0.6373 - val_loss: 0.8404 - val_acc: 0.6191\n",
      "Epoch 22/25\n",
      "20/20 [==============================] - 6s 306ms/step - loss: 0.8159 - acc: 0.6343 - val_loss: 0.8351 - val_acc: 0.6207\n",
      "Epoch 23/25\n",
      "20/20 [==============================] - 6s 326ms/step - loss: 0.8036 - acc: 0.6444 - val_loss: 0.8215 - val_acc: 0.6268\n",
      "Epoch 24/25\n",
      "20/20 [==============================] - 6s 315ms/step - loss: 0.7947 - acc: 0.6492 - val_loss: 0.8231 - val_acc: 0.6283\n",
      "Epoch 25/25\n",
      "20/20 [==============================] - 6s 309ms/step - loss: 0.7911 - acc: 0.6519 - val_loss: 0.8216 - val_acc: 0.6280\n"
     ]
    }
   ],
   "source": [
    "hist=model.fit(embedding_matrix_train,Y_train,epochs=25,batch_size=1500,validation_split=0.2)"
   ]
  },
  {
   "cell_type": "code",
   "execution_count": 32,
   "id": "30261a89-decc-4b04-b091-f3152ba95521",
   "metadata": {},
   "outputs": [
    {
     "name": "stdout",
     "output_type": "stream",
     "text": [
      "163/163 [==============================] - 5s 29ms/step - loss: 0.8422 - acc: 0.6095\n"
     ]
    },
    {
     "data": {
      "text/plain": [
       "[0.8422237038612366, 0.6094890236854553]"
      ]
     },
     "execution_count": 32,
     "metadata": {},
     "output_type": "execute_result"
    }
   ],
   "source": [
    "model.evaluate(embedding_matrix_test,Y_test)"
   ]
  },
  {
   "cell_type": "code",
   "execution_count": 33,
   "id": "c4ea4850",
   "metadata": {},
   "outputs": [],
   "source": [
    "# model.save('model.h5')"
   ]
  },
  {
   "cell_type": "code",
   "execution_count": 34,
   "id": "380d0baf-798d-4265-8d8d-f516030514b4",
   "metadata": {},
   "outputs": [],
   "source": [
    "def predict(X):\n",
    "    X=np.array([X])\n",
    "    embedding_matrix=embedding_output(X)\n",
    "    print(model.predict(embedding_matrix))\n",
    "    return np.argmax(model.predict(embedding_matrix))"
   ]
  },
  {
   "cell_type": "code",
   "execution_count": 56,
   "id": "2e7054c4-8f93-4046-8e19-207dfcd9e16e",
   "metadata": {},
   "outputs": [],
   "source": [
    "sent='He is a good student'\n",
    "sent1='He is the bad student'\n",
    "sent3='he is everyones favourite student'\n",
    "# X=np.asanyarray(sent,dtype='object')\n",
    "# X.shape"
   ]
  },
  {
   "cell_type": "code",
   "execution_count": 57,
   "id": "912262ef-944b-4943-8e24-38b757edccaf",
   "metadata": {},
   "outputs": [
    {
     "name": "stdout",
     "output_type": "stream",
     "text": [
      "1/1 [==============================] - 0s 55ms/step\n",
      "[[0.16388842 0.64316285 0.19294876]]\n",
      "1/1 [==============================] - 0s 41ms/step\n"
     ]
    },
    {
     "data": {
      "text/plain": [
       "1"
      ]
     },
     "execution_count": 57,
     "metadata": {},
     "output_type": "execute_result"
    }
   ],
   "source": [
    "predict(sent)"
   ]
  },
  {
   "cell_type": "code",
   "execution_count": 58,
   "id": "b961a6dd-e689-49d5-84b6-7e28a4fccf69",
   "metadata": {},
   "outputs": [
    {
     "name": "stdout",
     "output_type": "stream",
     "text": [
      "1/1 [==============================] - 0s 49ms/step\n",
      "[[0.5367488  0.38409603 0.07915511]]\n",
      "1/1 [==============================] - 0s 74ms/step\n"
     ]
    },
    {
     "data": {
      "text/plain": [
       "0"
      ]
     },
     "execution_count": 58,
     "metadata": {},
     "output_type": "execute_result"
    }
   ],
   "source": [
    "predict(sent1)"
   ]
  },
  {
   "cell_type": "code",
   "execution_count": 59,
   "id": "7ce186fb-c79b-4205-82f7-1b01fa52ddfc",
   "metadata": {},
   "outputs": [
    {
     "name": "stdout",
     "output_type": "stream",
     "text": [
      "1/1 [==============================] - 0s 51ms/step\n",
      "[[0.3804848  0.50008684 0.11942837]]\n",
      "1/1 [==============================] - 0s 53ms/step\n"
     ]
    },
    {
     "data": {
      "text/plain": [
       "1"
      ]
     },
     "execution_count": 59,
     "metadata": {},
     "output_type": "execute_result"
    }
   ],
   "source": [
    "predict(sent3)"
   ]
  },
  {
   "cell_type": "code",
   "execution_count": null,
   "id": "8b2d417b-94a7-4d44-9c2a-522e645a4cdf",
   "metadata": {},
   "outputs": [],
   "source": []
  }
 ],
 "metadata": {
  "kernelspec": {
   "display_name": "Python 3 (ipykernel)",
   "language": "python",
   "name": "python3"
  },
  "language_info": {
   "codemirror_mode": {
    "name": "ipython",
    "version": 3
   },
   "file_extension": ".py",
   "mimetype": "text/x-python",
   "name": "python",
   "nbconvert_exporter": "python",
   "pygments_lexer": "ipython3",
   "version": "3.9.18"
  }
 },
 "nbformat": 4,
 "nbformat_minor": 5
}
